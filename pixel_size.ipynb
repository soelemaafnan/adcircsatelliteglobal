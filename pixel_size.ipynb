{
 "cells": [
  {
   "cell_type": "code",
   "execution_count": 2,
   "metadata": {},
   "outputs": [
    {
     "name": "stdout",
     "output_type": "stream",
     "text": [
      "Latitude pixel size: 4.500000000007276e-05 degrees\n",
      "Longitude pixel size: 0.0002880000000011762 degrees\n"
     ]
    }
   ],
   "source": [
    "import numpy as np\n",
    "from netCDF4 import Dataset\n",
    "\n",
    "def calculate_pixel_size(nc_file_path):\n",
    "    # Open the NetCDF file\n",
    "    dataset = Dataset(nc_file_path, 'r')\n",
    "\n",
    "    # Read latitude and longitude variables\n",
    "    satellite_lats = dataset.variables['latitude'][:]\n",
    "    satellite_lons = dataset.variables['longitude'][:]\n",
    "\n",
    "    # Close the NetCDF file\n",
    "    dataset.close()\n",
    "\n",
    "    # Calculate pixel size (assuming regular grid)\n",
    "    lat_pixel_size = np.abs(satellite_lats[1, 0] - satellite_lats[0, 0])  # Latitude size of each pixel\n",
    "    lon_pixel_size = np.abs(satellite_lons[0, 1] - satellite_lons[0, 0])  # Longitude size of each pixel\n",
    "\n",
    "    # Print pixel sizes\n",
    "    print(f\"Latitude pixel size: {lat_pixel_size} degrees\")\n",
    "    print(f\"Longitude pixel size: {lon_pixel_size} degrees\")\n",
    "\n",
    "if __name__ == \"__main__\":\n",
    "    # Path to the satellite NetCDF file\n",
    "    nc_file_path = '/work2/07174/soelem/stampede3/Paper-3/karin_data_test/SWOT_L2_LR_SSH_Expert_019_034_20240731T232256_20240801T001424_PIC0_01.nc'\n",
    "    \n",
    "    # Call the function to calculate and print pixel sizes\n",
    "    calculate_pixel_size(nc_file_path)"
   ]
  }
 ],
 "metadata": {
  "kernelspec": {
   "display_name": "era5",
   "language": "python",
   "name": "python3"
  },
  "language_info": {
   "codemirror_mode": {
    "name": "ipython",
    "version": 3
   },
   "file_extension": ".py",
   "mimetype": "text/x-python",
   "name": "python",
   "nbconvert_exporter": "python",
   "pygments_lexer": "ipython3",
   "version": "3.9.19"
  }
 },
 "nbformat": 4,
 "nbformat_minor": 2
}
