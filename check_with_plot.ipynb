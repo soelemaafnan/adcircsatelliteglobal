{
 "cells": [
  {
   "cell_type": "code",
   "execution_count": null,
   "metadata": {},
   "outputs": [],
   "source": [
    "import numpy as np\n",
    "import matplotlib.pyplot as plt\n",
    "import cartopy.crs as ccrs\n",
    "from netCDF4 import Dataset\n",
    "\n",
    "def plot_adcirc_and_satellite(adcirc_file, satellite_file):\n",
    "    # Load ADCIRC data\n",
    "    adcirc_data = Dataset(adcirc_file, 'r')\n",
    "    adcirc_lats = adcirc_data.variables['y'][:]\n",
    "    adcirc_lons = adcirc_data.variables['x'][:]\n",
    "    adcirc_lons = np.where(adcirc_lons > 180, adcirc_lons - 360, adcirc_lons)  # Convert longitudes to [-180, 180]\n",
    "    adcirc_data.close()\n",
    "\n",
    "    # Load satellite data\n",
    "    satellite_data = Dataset(satellite_file, 'r')\n",
    "    satellite_lats = satellite_data.variables['latitude'][:]\n",
    "    satellite_lons = satellite_data.variables['longitude'][:]\n",
    "    satellite_lons = np.where(satellite_lons > 180, satellite_lons - 360, satellite_lons)  # Convert longitudes to [-180, 180]\n",
    "    satellite_data.close()\n",
    "\n",
    "    # Plot settings\n",
    "    fig = plt.figure(figsize=(10, 8))\n",
    "    ax = plt.axes(projection=ccrs.PlateCarree())\n",
    "\n",
    "    # Set the extent (global or adjust to your area of interest)\n",
    "    ax.set_extent([-180, 180, -90, 90], crs=ccrs.PlateCarree())\n",
    "\n",
    "    # Add geographic features (coastlines, gridlines, etc.)\n",
    "    ax.coastlines()\n",
    "    ax.gridlines(draw_labels=True)\n",
    "\n",
    "    # Plot ADCIRC points\n",
    "    ax.scatter(adcirc_lons, adcirc_lats, s=0.0001, color='blue', label='ADCIRC Points', transform=ccrs.PlateCarree())\n",
    "\n",
    "    # Plot satellite pixels\n",
    "    ax.scatter(satellite_lons, satellite_lats, s=1, color='red', label='Satellite Pixels', transform=ccrs.PlateCarree())\n",
    "\n",
    "    # Add legend\n",
    "    plt.legend()\n",
    "\n",
    "    # Show the plot\n",
    "    plt.title(\"ADCIRC Points and Satellite Pixels\")\n",
    "    plt.show()\n",
    "\n",
    "if __name__ == \"__main__\":\n",
    "    # Path to the ADCIRC and satellite NetCDF files\n",
    "    adcirc_file = '/scratch/07174/soelem/global_2-20km/fort.63.nc'      # Replace with your ADCIRC NetCDF file\n",
    "    satellite_file = '/work2/07174/soelem/stampede3/Paper-3/karin_data_test/SWOT_L2_LR_SSH_Expert_019_034_20240731T232256_20240801T001424_PIC0_01.nc'  # Replace with your satellite NetCDF file\n",
    "\n",
    "    # Call the plotting function\n",
    "    plot_adcirc_and_satellite(adcirc_file, satellite_file)"
   ]
  }
 ],
 "metadata": {
  "kernelspec": {
   "display_name": "era5",
   "language": "python",
   "name": "python3"
  },
  "language_info": {
   "codemirror_mode": {
    "name": "ipython",
    "version": 3
   },
   "file_extension": ".py",
   "mimetype": "text/x-python",
   "name": "python",
   "nbconvert_exporter": "python",
   "pygments_lexer": "ipython3",
   "version": "3.9.19"
  }
 },
 "nbformat": 4,
 "nbformat_minor": 2
}
