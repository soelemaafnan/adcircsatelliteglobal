{
 "cells": [
  {
   "cell_type": "markdown",
   "metadata": {},
   "source": [
    "# Create ADCIRC NWS 12 Forcings"
   ]
  },
  {
   "cell_type": "code",
   "execution_count": 1,
   "metadata": {},
   "outputs": [],
   "source": [
    "#Load custom library\n",
    "import adcircforcing"
   ]
  },
  {
   "cell_type": "markdown",
   "metadata": {},
   "source": [
    "### Reads the ERA5 data file, checks for u10/v10,msl, or ice and write the fort 221,222,225\n"
   ]
  },
  {
   "cell_type": "markdown",
   "metadata": {},
   "source": [
    " - Note: Longitude must be on a -180 to 180 scale. If longitude in a fort.14 domain crosses the antimeridian (say for Alaska) there must be functionality to allows negative lon value to exceed -180 or to convert to a 0-360 scale. This grid condition can not be inferred as it requires the fort.14 to be read and thus was not built into this code. It can easily be built in however by doing a simple longitude conversion."
   ]
  },
  {
   "cell_type": "code",
   "execution_count": null,
   "metadata": {},
   "outputs": [],
   "source": [
    "#Input ERA5 file\n",
    "fn = '/work2/07174/soelem/stampede3/download.nc'\n",
    "\n",
    "#Output filepath (leave blank to write to current directory)\n",
    "out_fp = '/work2/07174/soelem/stampede3/Paper-3/'\n",
    "\n",
    "adcircforcing.ERA5_to_NWS12(fn,out_fp)\n"
   ]
  }
 ],
 "metadata": {
  "kernelspec": {
   "display_name": "era5",
   "language": "python",
   "name": "python3"
  },
  "language_info": {
   "codemirror_mode": {
    "name": "ipython",
    "version": 3
   },
   "file_extension": ".py",
   "mimetype": "text/x-python",
   "name": "python",
   "nbconvert_exporter": "python",
   "pygments_lexer": "ipython3",
   "version": "3.9.19"
  }
 },
 "nbformat": 4,
 "nbformat_minor": 2
}
