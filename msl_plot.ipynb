{
 "cells": [
  {
   "cell_type": "code",
   "execution_count": null,
   "metadata": {},
   "outputs": [],
   "source": [
    "import xarray as xr\n",
    "import matplotlib.pyplot as plt\n",
    "import cartopy.crs as ccrs\n",
    "import cartopy.feature as cfeature\n",
    "\n",
    "# Load the NetCDF file\n",
    "ds = xr.open_dataset(r\"C:\\Users\\soele\\OneDrive - George Mason University - O365 Production\\Documents\\FINESST\\Paper-3\\hycom_GLBv0.08_53X_archMN.1994_12_2015_12_ssh.nc\")\n",
    "\n",
    "# Extract the surf_el variable, latitude, and longitude\n",
    "surf_el = ds['surf_el'].isel(time=0)  # Select the first (and currently only) time index\n",
    "lat = ds['lat']\n",
    "lon = ds['lon']\n",
    "\n",
    "# Apply scale factor and offset (from metadata)\n",
    "surf_el = surf_el * ds['surf_el'].scale_factor + ds['surf_el'].add_offset\n",
    "\n",
    "# Mask out the missing values (from metadata)\n",
    "surf_el = surf_el.where(surf_el != ds['surf_el']._FillValue)\n",
    "\n",
    "# Plotting\n",
    "plt.figure(figsize=(12, 6))\n",
    "\n",
    "# Define the map projection\n",
    "proj = ccrs.PlateCarree()\n",
    "\n",
    "# Create the plot\n",
    "ax = plt.axes(projection=proj)\n",
    "ax.coastlines(resolution='110m')\n",
    "ax.add_feature(cfeature.BORDERS)\n",
    "ax.add_feature(cfeature.LAND, facecolor='lightgray')\n",
    "\n",
    "# Set extent to cover the global view\n",
    "ax.set_extent([lon.min(), lon.max(), lat.min(), lat.max()], crs=proj)\n",
    "\n",
    "# Plot the sea surface elevation (surf_el) with a color map\n",
    "c = ax.pcolormesh(lon, lat, surf_el, transform=proj, cmap='coolwarm')\n",
    "\n",
    "# Add a color bar\n",
    "plt.colorbar(c, label='Sea Surface Elevation (m)')\n",
    "\n",
    "# Set the title\n",
    "plt.title('Global Sea Surface Elevation')\n",
    "\n",
    "# Show the plot\n",
    "plt.show()"
   ]
  }
 ],
 "metadata": {
  "language_info": {
   "name": "python"
  }
 },
 "nbformat": 4,
 "nbformat_minor": 2
}
